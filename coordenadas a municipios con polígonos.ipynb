{
 "cells": [
  {
   "cell_type": "code",
   "execution_count": 1,
   "id": "bb2ac271",
   "metadata": {},
   "outputs": [],
   "source": [
    "from shapely.geometry import shape, Point, Polygon, MultiPolygon\n",
    "import pandas as pd\n",
    "import json\n",
    "import numpy as np"
   ]
  },
  {
   "cell_type": "markdown",
   "id": "b8a93109",
   "metadata": {},
   "source": [
    "# Función que devuelve el municipio en el que se encuentran un par de coordenadas"
   ]
  },
  {
   "cell_type": "code",
   "execution_count": 2,
   "id": "cdc4a8a2",
   "metadata": {},
   "outputs": [],
   "source": [
    "def dentro_de_municipio(coords):\n",
    "    for i in range(0, len(municipios[\"features\"])):\n",
    "        if municipios[\"features\"][i][\"geometry\"][\"type\"] == 'Polygon':\n",
    "            p = shape(Polygon(municipios[\"features\"][i][\"geometry\"][\"coordinates\"][0]))\n",
    "        else:\n",
    "            for forma in municipios[\"features\"][i][\"geometry\"][\"coordinates\"]:\n",
    "                p = shape(Polygon(forma[0]))\n",
    "                coords = Point(coords)\n",
    "                if p.contains(coords):\n",
    "                    return municipios[\"features\"][i][\"properties\"][\"mun_name\"]\n",
    "        coords = Point(coords)\n",
    "        if p.contains(coords):\n",
    "            return municipios[\"features\"][i][\"properties\"][\"mun_name\"]\n",
    "    return \"Desconocido\""
   ]
  },
  {
   "cell_type": "markdown",
   "id": "b1babb6d",
   "metadata": {},
   "source": [
    "# Lee GEOJSON con municipios"
   ]
  },
  {
   "cell_type": "code",
   "execution_count": 3,
   "id": "eda76c20",
   "metadata": {},
   "outputs": [],
   "source": [
    "with open(r\".\\municipios.geojson\", encoding=\"utf8\") as contenido:\n",
    "    municipios = json.load(contenido)"
   ]
  },
  {
   "cell_type": "code",
   "execution_count": 4,
   "id": "8131dcd3",
   "metadata": {},
   "outputs": [
    {
     "name": "stdout",
     "output_type": "stream",
     "text": [
      "Tlalnepantla de Baz\n"
     ]
    }
   ],
   "source": [
    "print(dentro_de_municipio([-99.198612, 19.547039]))"
   ]
  },
  {
   "cell_type": "code",
   "execution_count": 5,
   "id": "2102ed2c",
   "metadata": {},
   "outputs": [
    {
     "name": "stdout",
     "output_type": "stream",
     "text": [
      "Huixquilucan\n"
     ]
    }
   ],
   "source": [
    "print(dentro_de_municipio([-99.314421, 19.372941]))"
   ]
  },
  {
   "cell_type": "code",
   "execution_count": 5,
   "id": "bd6787ab",
   "metadata": {},
   "outputs": [
    {
     "name": "stdout",
     "output_type": "stream",
     "text": [
      "Atarjea\n"
     ]
    }
   ],
   "source": [
    "print(dentro_de_municipio([-99.736496, 21.237691]))"
   ]
  },
  {
   "cell_type": "markdown",
   "id": "ab9984ae",
   "metadata": {},
   "source": [
    "# Función para recibir y devolver un DF. Usarla en tableau"
   ]
  },
  {
   "cell_type": "code",
   "execution_count": 6,
   "id": "d6c47f25",
   "metadata": {},
   "outputs": [],
   "source": [
    "def aggMunicipio(df):\n",
    "    df['Municipio'] = df.apply(lambda row : dentro_de_municipio([row['headers.xlongitud'], row['headers.xlatitud']]), axis = 1)\n",
    "    return df"
   ]
  },
  {
   "cell_type": "code",
   "execution_count": null,
   "id": "1b54083b",
   "metadata": {},
   "outputs": [],
   "source": []
  }
 ],
 "metadata": {
  "kernelspec": {
   "display_name": "Python 3",
   "language": "python",
   "name": "python3"
  },
  "language_info": {
   "codemirror_mode": {
    "name": "ipython",
    "version": 3
   },
   "file_extension": ".py",
   "mimetype": "text/x-python",
   "name": "python",
   "nbconvert_exporter": "python",
   "pygments_lexer": "ipython3",
   "version": "3.8.8"
  }
 },
 "nbformat": 4,
 "nbformat_minor": 5
}
